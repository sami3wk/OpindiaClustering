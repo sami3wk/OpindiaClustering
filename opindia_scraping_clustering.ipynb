{
 "cells": [
  {
   "cell_type": "code",
   "execution_count": 1,
   "id": "a4997544",
   "metadata": {},
   "outputs": [],
   "source": [
    "from requests import get\n",
    "from bs4 import BeautifulSoup\n",
    "import pandas as pd\n",
    "import re"
   ]
  },
  {
   "cell_type": "code",
   "execution_count": 2,
   "id": "22656cbe",
   "metadata": {},
   "outputs": [],
   "source": [
    "url = \"https://www.opindia.com/latest-news/\"\n",
    "data = get(url)"
   ]
  },
  {
   "cell_type": "code",
   "execution_count": 3,
   "id": "29d4d708",
   "metadata": {},
   "outputs": [
    {
     "data": {
      "text/plain": [
       "<Response [200]>"
      ]
     },
     "execution_count": 3,
     "metadata": {},
     "output_type": "execute_result"
    }
   ],
   "source": [
    "data"
   ]
  },
  {
   "cell_type": "code",
   "execution_count": 4,
   "id": "382b2607",
   "metadata": {},
   "outputs": [],
   "source": [
    "soup = BeautifulSoup(data.content,\"html.parser\")"
   ]
  },
  {
   "cell_type": "code",
   "execution_count": 5,
   "id": "2d253004",
   "metadata": {},
   "outputs": [],
   "source": [
    "def fetch_article(url):\n",
    "    data = get(url)\n",
    "    soup = BeautifulSoup(data.content,\"html.parser\")\n",
    "    articles = []\n",
    "    for i in soup.find_all(\"h3\",class_=[\"entry-title td-module-title\"]):\n",
    "        articles.append(i.find('a')[\"title\"])\n",
    "    return articles"
   ]
  },
  {
   "cell_type": "code",
   "execution_count": 6,
   "id": "1d3f6279",
   "metadata": {},
   "outputs": [],
   "source": [
    "urllist = [\"https://www.opindia.com/latest-news/\"]\n",
    "for i in range(2,21,1):\n",
    "    url = \"https://www.opindia.com/latest-news/page/\"+str(i)+\"/\"\n",
    "    urllist.append(url)"
   ]
  },
  {
   "cell_type": "code",
   "execution_count": 7,
   "id": "42514dcf",
   "metadata": {},
   "outputs": [],
   "source": [
    "all_articles = []\n",
    "for i in urllist:\n",
    "    all_articles.extend(fetch_article(i))"
   ]
  },
  {
   "cell_type": "code",
   "execution_count": 9,
   "id": "12de745a",
   "metadata": {},
   "outputs": [],
   "source": [
    "p_art =[]\n",
    "for i in all_articles:\n",
    "    i = i.upper()\n",
    "    import re\n",
    "    i = re.sub(\"[^A-Z0-9 ]\",\"\",i)\n",
    "    from nltk.stem import PorterStemmer\n",
    "    tk_q = i.split(\" \")\n",
    "    sent = \"\"\n",
    "    for j in tk_q:\n",
    "        ps = PorterStemmer()\n",
    "        sent = sent + \" \" + ps.stem(j).upper()\n",
    "    p_art.append(sent)"
   ]
  },
  {
   "cell_type": "code",
   "execution_count": 10,
   "id": "7cc9a37a",
   "metadata": {},
   "outputs": [],
   "source": [
    "from sklearn.feature_extraction.text import TfidfVectorizer\n",
    "tf = TfidfVectorizer()\n",
    "A = tf.fit_transform(p_art).toarray()"
   ]
  },
  {
   "cell_type": "code",
   "execution_count": 11,
   "id": "dcafb616",
   "metadata": {},
   "outputs": [],
   "source": [
    "from sklearn.cluster import KMeans\n",
    "km = KMeans(n_clusters=5)\n",
    "cl_res = km.fit(A)"
   ]
  },
  {
   "cell_type": "code",
   "execution_count": 12,
   "id": "6590f8d3",
   "metadata": {},
   "outputs": [
    {
     "data": {
      "text/plain": [
       "array([2, 3, 2, ..., 4, 4, 4])"
      ]
     },
     "execution_count": 12,
     "metadata": {},
     "output_type": "execute_result"
    }
   ],
   "source": [
    "cl_res.labels_"
   ]
  },
  {
   "cell_type": "code",
   "execution_count": 13,
   "id": "51136697",
   "metadata": {},
   "outputs": [],
   "source": [
    "Q = pd.DataFrame(p_art,columns=[\"Article\"])"
   ]
  },
  {
   "cell_type": "code",
   "execution_count": 14,
   "id": "d89472ea",
   "metadata": {},
   "outputs": [],
   "source": [
    "Q[\"Cluster\"] = cl_res.labels_"
   ]
  },
  {
   "cell_type": "code",
   "execution_count": 15,
   "id": "810835c7",
   "metadata": {},
   "outputs": [
    {
     "data": {
      "text/html": [
       "<div>\n",
       "<style scoped>\n",
       "    .dataframe tbody tr th:only-of-type {\n",
       "        vertical-align: middle;\n",
       "    }\n",
       "\n",
       "    .dataframe tbody tr th {\n",
       "        vertical-align: top;\n",
       "    }\n",
       "\n",
       "    .dataframe thead th {\n",
       "        text-align: right;\n",
       "    }\n",
       "</style>\n",
       "<table border=\"1\" class=\"dataframe\">\n",
       "  <thead>\n",
       "    <tr style=\"text-align: right;\">\n",
       "      <th></th>\n",
       "      <th>Article</th>\n",
       "      <th>Cluster</th>\n",
       "    </tr>\n",
       "  </thead>\n",
       "  <tbody>\n",
       "    <tr>\n",
       "      <th>5</th>\n",
       "      <td>ARE HINDU WAST TIME ON THE HIJAB ROW HERE IS ...</td>\n",
       "      <td>4</td>\n",
       "    </tr>\n",
       "    <tr>\n",
       "      <th>10</th>\n",
       "      <td>ANTICAA RIOTER IN UP WILL STILL PAY FOR THE D...</td>\n",
       "      <td>4</td>\n",
       "    </tr>\n",
       "    <tr>\n",
       "      <th>12</th>\n",
       "      <td>I GOT 25 CRORE BUT GAVE DETAIL OF 266 CRORE O...</td>\n",
       "      <td>4</td>\n",
       "    </tr>\n",
       "    <tr>\n",
       "      <th>14</th>\n",
       "      <td>CENTRAL GOVT CLAMP DOWN ON PROKHALISTAN CHANN...</td>\n",
       "      <td>4</td>\n",
       "    </tr>\n",
       "    <tr>\n",
       "      <th>17</th>\n",
       "      <td>AS THE KASHMIR FILE GET READI TO SHOW STORI O...</td>\n",
       "      <td>4</td>\n",
       "    </tr>\n",
       "    <tr>\n",
       "      <th>18</th>\n",
       "      <td>DID SHEKHAR GUPTA THEPRINT USE PORN FILM INTR...</td>\n",
       "      <td>4</td>\n",
       "    </tr>\n",
       "    <tr>\n",
       "      <th>21</th>\n",
       "      <td>HARVARD STUDENT GET A LESSON ON YOGI ADITYANA...</td>\n",
       "      <td>4</td>\n",
       "    </tr>\n",
       "    <tr>\n",
       "      <th>25</th>\n",
       "      <td>CHRONOLOG FACT DONT MATCH UP HERE IS WHI EVEN...</td>\n",
       "      <td>4</td>\n",
       "    </tr>\n",
       "    <tr>\n",
       "      <th>26</th>\n",
       "      <td>BURQA ROW IN KARNATAKA THREATEN COMMUN HARMON...</td>\n",
       "      <td>4</td>\n",
       "    </tr>\n",
       "    <tr>\n",
       "      <th>32</th>\n",
       "      <td>ARE HINDU WAST TIME ON THE HIJAB ROW HERE IS ...</td>\n",
       "      <td>4</td>\n",
       "    </tr>\n",
       "    <tr>\n",
       "      <th>37</th>\n",
       "      <td>ANTICAA RIOTER IN UP WILL STILL PAY FOR THE D...</td>\n",
       "      <td>4</td>\n",
       "    </tr>\n",
       "    <tr>\n",
       "      <th>39</th>\n",
       "      <td>I GOT 25 CRORE BUT GAVE DETAIL OF 266 CRORE O...</td>\n",
       "      <td>4</td>\n",
       "    </tr>\n",
       "    <tr>\n",
       "      <th>41</th>\n",
       "      <td>CENTRAL GOVT CLAMP DOWN ON PROKHALISTAN CHANN...</td>\n",
       "      <td>4</td>\n",
       "    </tr>\n",
       "    <tr>\n",
       "      <th>44</th>\n",
       "      <td>AS THE KASHMIR FILE GET READI TO SHOW STORI O...</td>\n",
       "      <td>4</td>\n",
       "    </tr>\n",
       "    <tr>\n",
       "      <th>45</th>\n",
       "      <td>DID SHEKHAR GUPTA THEPRINT USE PORN FILM INTR...</td>\n",
       "      <td>4</td>\n",
       "    </tr>\n",
       "    <tr>\n",
       "      <th>48</th>\n",
       "      <td>HARVARD STUDENT GET A LESSON ON YOGI ADITYANA...</td>\n",
       "      <td>4</td>\n",
       "    </tr>\n",
       "    <tr>\n",
       "      <th>52</th>\n",
       "      <td>CHRONOLOG FACT DONT MATCH UP HERE IS WHI EVEN...</td>\n",
       "      <td>4</td>\n",
       "    </tr>\n",
       "    <tr>\n",
       "      <th>53</th>\n",
       "      <td>BURQA ROW IN KARNATAKA THREATEN COMMUN HARMON...</td>\n",
       "      <td>4</td>\n",
       "    </tr>\n",
       "    <tr>\n",
       "      <th>54</th>\n",
       "      <td>BHARATP SACK MADHURI JAIN WIFE OF ASHNEER GRO...</td>\n",
       "      <td>4</td>\n",
       "    </tr>\n",
       "    <tr>\n",
       "      <th>55</th>\n",
       "      <td>GURUGRAM MAULVI HASAN TAIYAB WARI AND FIVE OT...</td>\n",
       "      <td>4</td>\n",
       "    </tr>\n",
       "  </tbody>\n",
       "</table>\n",
       "</div>"
      ],
      "text/plain": [
       "                                              Article  Cluster\n",
       "5    ARE HINDU WAST TIME ON THE HIJAB ROW HERE IS ...        4\n",
       "10   ANTICAA RIOTER IN UP WILL STILL PAY FOR THE D...        4\n",
       "12   I GOT 25 CRORE BUT GAVE DETAIL OF 266 CRORE O...        4\n",
       "14   CENTRAL GOVT CLAMP DOWN ON PROKHALISTAN CHANN...        4\n",
       "17   AS THE KASHMIR FILE GET READI TO SHOW STORI O...        4\n",
       "18   DID SHEKHAR GUPTA THEPRINT USE PORN FILM INTR...        4\n",
       "21   HARVARD STUDENT GET A LESSON ON YOGI ADITYANA...        4\n",
       "25   CHRONOLOG FACT DONT MATCH UP HERE IS WHI EVEN...        4\n",
       "26   BURQA ROW IN KARNATAKA THREATEN COMMUN HARMON...        4\n",
       "32   ARE HINDU WAST TIME ON THE HIJAB ROW HERE IS ...        4\n",
       "37   ANTICAA RIOTER IN UP WILL STILL PAY FOR THE D...        4\n",
       "39   I GOT 25 CRORE BUT GAVE DETAIL OF 266 CRORE O...        4\n",
       "41   CENTRAL GOVT CLAMP DOWN ON PROKHALISTAN CHANN...        4\n",
       "44   AS THE KASHMIR FILE GET READI TO SHOW STORI O...        4\n",
       "45   DID SHEKHAR GUPTA THEPRINT USE PORN FILM INTR...        4\n",
       "48   HARVARD STUDENT GET A LESSON ON YOGI ADITYANA...        4\n",
       "52   CHRONOLOG FACT DONT MATCH UP HERE IS WHI EVEN...        4\n",
       "53   BURQA ROW IN KARNATAKA THREATEN COMMUN HARMON...        4\n",
       "54   BHARATP SACK MADHURI JAIN WIFE OF ASHNEER GRO...        4\n",
       "55   GURUGRAM MAULVI HASAN TAIYAB WARI AND FIVE OT...        4"
      ]
     },
     "execution_count": 15,
     "metadata": {},
     "output_type": "execute_result"
    }
   ],
   "source": [
    "Q[Q[\"Cluster\"]==4].head(20)"
   ]
  },
  {
   "cell_type": "raw",
   "id": "fdcc8fc0",
   "metadata": {},
   "source": [
    "0 -> religion\n",
    "1 ->history\n",
    "2 ->country\n",
    "3 - >politics\n",
    "4-> social"
   ]
  },
  {
   "cell_type": "code",
   "execution_count": 16,
   "id": "fe8f077a",
   "metadata": {},
   "outputs": [],
   "source": [
    "E = {1 : \"History\",\n",
    "2 : \"Country\",\n",
    "3 : \"Politics\",\n",
    "4 : \"Social\",\n",
    "0 : \"Religion\"}"
   ]
  },
  {
   "cell_type": "code",
   "execution_count": 17,
   "id": "ac742511",
   "metadata": {},
   "outputs": [],
   "source": [
    "R = []\n",
    "for i in Q.Cluster:\n",
    "    R.append(E[i])\n",
    "    \n",
    "Q[\"Category\"] = R"
   ]
  },
  {
   "cell_type": "code",
   "execution_count": 18,
   "id": "5c2218d0",
   "metadata": {},
   "outputs": [
    {
     "data": {
      "text/html": [
       "<div>\n",
       "<style scoped>\n",
       "    .dataframe tbody tr th:only-of-type {\n",
       "        vertical-align: middle;\n",
       "    }\n",
       "\n",
       "    .dataframe tbody tr th {\n",
       "        vertical-align: top;\n",
       "    }\n",
       "\n",
       "    .dataframe thead th {\n",
       "        text-align: right;\n",
       "    }\n",
       "</style>\n",
       "<table border=\"1\" class=\"dataframe\">\n",
       "  <thead>\n",
       "    <tr style=\"text-align: right;\">\n",
       "      <th></th>\n",
       "      <th>Article</th>\n",
       "      <th>Cluster</th>\n",
       "      <th>Category</th>\n",
       "    </tr>\n",
       "  </thead>\n",
       "  <tbody>\n",
       "    <tr>\n",
       "      <th>0</th>\n",
       "      <td>TAMIL NADU BJP MAKE SIGNIFIC GAIN IN LOCAL BO...</td>\n",
       "      <td>2</td>\n",
       "      <td>Country</td>\n",
       "    </tr>\n",
       "    <tr>\n",
       "      <th>1</th>\n",
       "      <td>RSS ORGANIS HINDU SOCIETI TO MAKE COUNTRI STR...</td>\n",
       "      <td>3</td>\n",
       "      <td>Politics</td>\n",
       "    </tr>\n",
       "    <tr>\n",
       "      <th>2</th>\n",
       "      <td>AMIDST ONGO UP POLL RUMOUR EMERG SP CHIEF AKH...</td>\n",
       "      <td>2</td>\n",
       "      <td>Country</td>\n",
       "    </tr>\n",
       "    <tr>\n",
       "      <th>3</th>\n",
       "      <td>MEET THE EXPERT BEHIND THE UNHRC STATEMENT SU...</td>\n",
       "      <td>0</td>\n",
       "      <td>Religion</td>\n",
       "    </tr>\n",
       "    <tr>\n",
       "      <th>4</th>\n",
       "      <td>SWAPNA SURESH MAIN ACCUS IN KERALA GOLD SMUGG...</td>\n",
       "      <td>0</td>\n",
       "      <td>Religion</td>\n",
       "    </tr>\n",
       "    <tr>\n",
       "      <th>...</th>\n",
       "      <td>...</td>\n",
       "      <td>...</td>\n",
       "      <td>...</td>\n",
       "    </tr>\n",
       "    <tr>\n",
       "      <th>2075</th>\n",
       "      <td>ISI TRI TO SABOTAG PUNJAB ELECT THINK IT IS N...</td>\n",
       "      <td>4</td>\n",
       "      <td>Social</td>\n",
       "    </tr>\n",
       "    <tr>\n",
       "      <th>2076</th>\n",
       "      <td>IMRAN KHAN IS AN INTERN BEGGAR JAMAATEISLAMI ...</td>\n",
       "      <td>4</td>\n",
       "      <td>Social</td>\n",
       "    </tr>\n",
       "    <tr>\n",
       "      <th>2077</th>\n",
       "      <td>DRAG THAT CAMR BTCH OUT OF THE ROOM WHEN SAMA...</td>\n",
       "      <td>4</td>\n",
       "      <td>Social</td>\n",
       "    </tr>\n",
       "    <tr>\n",
       "      <th>2078</th>\n",
       "      <td>TEXA FBI IDENTIFI SYNAGOGU HOSTAGETAK AS BRIT...</td>\n",
       "      <td>4</td>\n",
       "      <td>Social</td>\n",
       "    </tr>\n",
       "    <tr>\n",
       "      <th>2079</th>\n",
       "      <td>WHILE PUNJAB MAHARASHTRA AND BENGAL LEADER TR...</td>\n",
       "      <td>4</td>\n",
       "      <td>Social</td>\n",
       "    </tr>\n",
       "  </tbody>\n",
       "</table>\n",
       "<p>2080 rows × 3 columns</p>\n",
       "</div>"
      ],
      "text/plain": [
       "                                                Article  Cluster  Category\n",
       "0      TAMIL NADU BJP MAKE SIGNIFIC GAIN IN LOCAL BO...        2   Country\n",
       "1      RSS ORGANIS HINDU SOCIETI TO MAKE COUNTRI STR...        3  Politics\n",
       "2      AMIDST ONGO UP POLL RUMOUR EMERG SP CHIEF AKH...        2   Country\n",
       "3      MEET THE EXPERT BEHIND THE UNHRC STATEMENT SU...        0  Religion\n",
       "4      SWAPNA SURESH MAIN ACCUS IN KERALA GOLD SMUGG...        0  Religion\n",
       "...                                                 ...      ...       ...\n",
       "2075   ISI TRI TO SABOTAG PUNJAB ELECT THINK IT IS N...        4    Social\n",
       "2076   IMRAN KHAN IS AN INTERN BEGGAR JAMAATEISLAMI ...        4    Social\n",
       "2077   DRAG THAT CAMR BTCH OUT OF THE ROOM WHEN SAMA...        4    Social\n",
       "2078   TEXA FBI IDENTIFI SYNAGOGU HOSTAGETAK AS BRIT...        4    Social\n",
       "2079   WHILE PUNJAB MAHARASHTRA AND BENGAL LEADER TR...        4    Social\n",
       "\n",
       "[2080 rows x 3 columns]"
      ]
     },
     "execution_count": 18,
     "metadata": {},
     "output_type": "execute_result"
    }
   ],
   "source": [
    "Q"
   ]
  },
  {
   "cell_type": "code",
   "execution_count": null,
   "id": "86b796f8",
   "metadata": {},
   "outputs": [],
   "source": []
  },
  {
   "cell_type": "code",
   "execution_count": null,
   "id": "6c83c423",
   "metadata": {},
   "outputs": [],
   "source": []
  },
  {
   "cell_type": "code",
   "execution_count": null,
   "id": "af490783",
   "metadata": {},
   "outputs": [],
   "source": []
  },
  {
   "cell_type": "code",
   "execution_count": null,
   "id": "dc6350bf",
   "metadata": {},
   "outputs": [],
   "source": []
  }
 ],
 "metadata": {
  "kernelspec": {
   "display_name": "Python 3",
   "language": "python",
   "name": "python3"
  },
  "language_info": {
   "codemirror_mode": {
    "name": "ipython",
    "version": 3
   },
   "file_extension": ".py",
   "mimetype": "text/x-python",
   "name": "python",
   "nbconvert_exporter": "python",
   "pygments_lexer": "ipython3",
   "version": "3.8.8"
  }
 },
 "nbformat": 4,
 "nbformat_minor": 5
}
